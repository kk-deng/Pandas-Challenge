{
 "cells": [
  {
   "cell_type": "markdown",
   "metadata": {},
   "source": [
    "### Note\n",
    "* Instructions have been included for each segment. You do not have to follow them exactly, but they are included to help you think through the steps."
   ]
  },
  {
   "cell_type": "code",
   "execution_count": 1,
   "metadata": {},
   "outputs": [],
   "source": [
    "# Dependencies and Setup\n",
    "import pandas as pd\n",
    "\n",
    "# File to Load (Remember to Change These)\n",
    "school_data_to_load = \"Resources/schools_complete.csv\"\n",
    "student_data_to_load = \"Resources/students_complete.csv\"\n",
    "\n",
    "# Read School and Student Data File and store into Pandas DataFrames\n",
    "school_data = pd.read_csv(school_data_to_load)\n",
    "student_data = pd.read_csv(student_data_to_load)\n",
    "\n",
    "# Combine the data into a single dataset.  \n",
    "school_data_complete = pd.merge(student_data, school_data, how=\"left\", on=[\"school_name\", \"school_name\"])"
   ]
  },
  {
   "cell_type": "markdown",
   "metadata": {},
   "source": [
    "## District Summary\n",
    "\n",
    "* Calculate the total number of schools\n",
    "\n",
    "* Calculate the total number of students\n",
    "\n",
    "* Calculate the total budget\n",
    "\n",
    "* Calculate the average math score \n",
    "\n",
    "* Calculate the average reading score\n",
    "\n",
    "* Calculate the percentage of students with a passing math score (70 or greater)\n",
    "\n",
    "* Calculate the percentage of students with a passing reading score (70 or greater)\n",
    "\n",
    "* Calculate the percentage of students who passed math **and** reading (% Overall Passing)\n",
    "\n",
    "* Create a dataframe to hold the above results\n",
    "\n",
    "* Optional: give the displayed data cleaner formatting"
   ]
  },
  {
   "cell_type": "code",
   "execution_count": 2,
   "metadata": {},
   "outputs": [
    {
     "output_type": "execute_result",
     "data": {
      "text/plain": [
       "   Total Schools Total Students    Total Budget Average Math Score  \\\n",
       "0             15         39,170  $24,649,428.00          78.985371   \n",
       "\n",
       "  Average Reading Score % Passing Math % Passing Reading % Overall Passing  \n",
       "0             81.877840      74.980853         85.805463         65.172326  "
      ],
      "text/html": "<div>\n<style scoped>\n    .dataframe tbody tr th:only-of-type {\n        vertical-align: middle;\n    }\n\n    .dataframe tbody tr th {\n        vertical-align: top;\n    }\n\n    .dataframe thead th {\n        text-align: right;\n    }\n</style>\n<table border=\"1\" class=\"dataframe\">\n  <thead>\n    <tr style=\"text-align: right;\">\n      <th></th>\n      <th>Total Schools</th>\n      <th>Total Students</th>\n      <th>Total Budget</th>\n      <th>Average Math Score</th>\n      <th>Average Reading Score</th>\n      <th>% Passing Math</th>\n      <th>% Passing Reading</th>\n      <th>% Overall Passing</th>\n    </tr>\n  </thead>\n  <tbody>\n    <tr>\n      <th>0</th>\n      <td>15</td>\n      <td>39,170</td>\n      <td>$24,649,428.00</td>\n      <td>78.985371</td>\n      <td>81.877840</td>\n      <td>74.980853</td>\n      <td>85.805463</td>\n      <td>65.172326</td>\n    </tr>\n  </tbody>\n</table>\n</div>"
     },
     "metadata": {},
     "execution_count": 2
    }
   ],
   "source": [
    "# Create a dictionary for the summary\n",
    "district_summary = {}\n",
    "\n",
    "# Get the total number of schools\n",
    "district_summary[\"Total Schools\"] = school_data[\"School ID\"].count()\n",
    "\n",
    "# Get the total number of students\n",
    "total_students = student_data[\"Student ID\"].count()\n",
    "district_summary[\"Total Students\"] = \"{:,}\".format(total_students)\n",
    "\n",
    "# Calculate the total budget for all schools\n",
    "total_budget = school_data[\"budget\"].sum()\n",
    "district_summary[\"Total Budget\"] = \"${:,.2f}\".format(total_budget)\n",
    "\n",
    "# Get the average math score\n",
    "average_math = school_data_complete[\"math_score\"].mean()\n",
    "district_summary[\"Average Math Score\"] = \"{:.6f}\".format(average_math)\n",
    "\n",
    "# Calculate the average reading score\n",
    "average_reading = school_data_complete[\"reading_score\"].mean()\n",
    "district_summary[\"Average Reading Score\"] = \"{:.6f}\".format(average_reading)\n",
    "\n",
    "# Create filter conditions for students with 70 or greater on math a& reading\n",
    "# Record the number of students\n",
    "math_passing = school_data_complete[\"math_score\"] >= 70\n",
    "reading_passing = school_data_complete[\"reading_score\"] >= 70\n",
    "all_student_count = school_data_complete[\"Student ID\"].count()\n",
    "\n",
    "# Calculate the percentage of students with a passing math score (70 or greater)\n",
    "passing_math_df = school_data_complete.loc[math_passing]\n",
    "percentage_math = passing_math_df[\"Student ID\"].count() / all_student_count * 100\n",
    "district_summary[\"% Passing Math\"] = \"{:.6f}\".format(percentage_math)\n",
    "\n",
    "# Calculate the percentage of students with a passing reading score (70 or greater)\n",
    "passing_reading_df = school_data_complete.loc[reading_passing]\n",
    "percentage_reading = passing_reading_df[\"Student ID\"].count() / all_student_count * 100\n",
    "district_summary[\"% Passing Reading\"] = \"{:.6f}\".format(percentage_reading)\n",
    "\n",
    "# Calculate the percentage of students who passed math and reading (% Overall Passing)\n",
    "passing_both_df = school_data_complete.loc[math_passing & reading_passing]\n",
    "percentage_both = passing_both_df[\"Student ID\"].count() / all_student_count * 100\n",
    "district_summary[\"% Overall Passing\"] = \"{:.6f}\".format(percentage_both)\n",
    "\n",
    "# Create a dataframe to hold results and display\n",
    "district_df = pd.DataFrame([district_summary])\n",
    "district_df"
   ]
  },
  {
   "cell_type": "markdown",
   "metadata": {},
   "source": [
    "## School Summary"
   ]
  },
  {
   "cell_type": "markdown",
   "metadata": {},
   "source": [
    "* Create an overview table that summarizes key metrics about each school, including:\n",
    "  * School Name\n",
    "  * School Type\n",
    "  * Total Students\n",
    "  * Total School Budget\n",
    "  * Per Student Budget\n",
    "  * Average Math Score\n",
    "  * Average Reading Score\n",
    "  * % Passing Math\n",
    "  * % Passing Reading\n",
    "  * % Overall Passing (The percentage of students that passed math **and** reading.)\n",
    "  \n",
    "* Create a dataframe to hold the above results"
   ]
  },
  {
   "cell_type": "code",
   "execution_count": 3,
   "metadata": {},
   "outputs": [
    {
     "output_type": "execute_result",
     "data": {
      "text/plain": [
       "                      School Type  Total Students Total School Budget  \\\n",
       "Bailey High School       District            4976       $3,124,928.00   \n",
       "Cabrera High School       Charter            1858       $1,081,356.00   \n",
       "Figueroa High School     District            2949       $1,884,411.00   \n",
       "Ford High School         District            2739       $1,763,916.00   \n",
       "Griffin High School       Charter            1468         $917,500.00   \n",
       "Hernandez High School    District            4635       $3,022,020.00   \n",
       "Holden High School        Charter             427         $248,087.00   \n",
       "Huang High School        District            2917       $1,910,635.00   \n",
       "Johnson High School      District            4761       $3,094,650.00   \n",
       "Pena High School          Charter             962         $585,858.00   \n",
       "Rodriguez High School    District            3999       $2,547,363.00   \n",
       "Shelton High School       Charter            1761       $1,056,600.00   \n",
       "Thomas High School        Charter            1635       $1,043,130.00   \n",
       "Wilson High School        Charter            2283       $1,319,574.00   \n",
       "Wright High School        Charter            1800       $1,049,400.00   \n",
       "\n",
       "                      Per Student Budget  Average Math Score  \\\n",
       "Bailey High School               $628.00           77.048432   \n",
       "Cabrera High School              $582.00           83.061895   \n",
       "Figueroa High School             $639.00           76.711767   \n",
       "Ford High School                 $644.00           77.102592   \n",
       "Griffin High School              $625.00           83.351499   \n",
       "Hernandez High School            $652.00           77.289752   \n",
       "Holden High School               $581.00           83.803279   \n",
       "Huang High School                $655.00           76.629414   \n",
       "Johnson High School              $650.00           77.072464   \n",
       "Pena High School                 $609.00           83.839917   \n",
       "Rodriguez High School            $637.00           76.842711   \n",
       "Shelton High School              $600.00           83.359455   \n",
       "Thomas High School               $638.00           83.418349   \n",
       "Wilson High School               $578.00           83.274201   \n",
       "Wright High School               $583.00           83.682222   \n",
       "\n",
       "                       Average Reading Score  % Passing Math  \\\n",
       "Bailey High School                 81.033963       66.680064   \n",
       "Cabrera High School                83.975780       94.133477   \n",
       "Figueroa High School               81.158020       65.988471   \n",
       "Ford High School                   80.746258       68.309602   \n",
       "Griffin High School                83.816757       93.392371   \n",
       "Hernandez High School              80.934412       66.752967   \n",
       "Holden High School                 83.814988       92.505855   \n",
       "Huang High School                  81.182722       65.683922   \n",
       "Johnson High School                80.966394       66.057551   \n",
       "Pena High School                   84.044699       94.594595   \n",
       "Rodriguez High School              80.744686       66.366592   \n",
       "Shelton High School                83.725724       93.867121   \n",
       "Thomas High School                 83.848930       93.272171   \n",
       "Wilson High School                 83.989488       93.867718   \n",
       "Wright High School                 83.955000       93.333333   \n",
       "\n",
       "                       % Passing Reading  % Overall Passing  \n",
       "Bailey High School             81.933280          54.642283  \n",
       "Cabrera High School            97.039828          91.334769  \n",
       "Figueroa High School           80.739234          53.204476  \n",
       "Ford High School               79.299014          54.289887  \n",
       "Griffin High School            97.138965          90.599455  \n",
       "Hernandez High School          80.862999          53.527508  \n",
       "Holden High School             96.252927          89.227166  \n",
       "Huang High School              81.316421          53.513884  \n",
       "Johnson High School            81.222432          53.539172  \n",
       "Pena High School               95.945946          90.540541  \n",
       "Rodriguez High School          80.220055          52.988247  \n",
       "Shelton High School            95.854628          89.892107  \n",
       "Thomas High School             97.308869          90.948012  \n",
       "Wilson High School             96.539641          90.582567  \n",
       "Wright High School             96.611111          90.333333  "
      ],
      "text/html": "<div>\n<style scoped>\n    .dataframe tbody tr th:only-of-type {\n        vertical-align: middle;\n    }\n\n    .dataframe tbody tr th {\n        vertical-align: top;\n    }\n\n    .dataframe thead th {\n        text-align: right;\n    }\n</style>\n<table border=\"1\" class=\"dataframe\">\n  <thead>\n    <tr style=\"text-align: right;\">\n      <th></th>\n      <th>School Type</th>\n      <th>Total Students</th>\n      <th>Total School Budget</th>\n      <th>Per Student Budget</th>\n      <th>Average Math Score</th>\n      <th>Average Reading Score</th>\n      <th>% Passing Math</th>\n      <th>% Passing Reading</th>\n      <th>% Overall Passing</th>\n    </tr>\n  </thead>\n  <tbody>\n    <tr>\n      <th>Bailey High School</th>\n      <td>District</td>\n      <td>4976</td>\n      <td>$3,124,928.00</td>\n      <td>$628.00</td>\n      <td>77.048432</td>\n      <td>81.033963</td>\n      <td>66.680064</td>\n      <td>81.933280</td>\n      <td>54.642283</td>\n    </tr>\n    <tr>\n      <th>Cabrera High School</th>\n      <td>Charter</td>\n      <td>1858</td>\n      <td>$1,081,356.00</td>\n      <td>$582.00</td>\n      <td>83.061895</td>\n      <td>83.975780</td>\n      <td>94.133477</td>\n      <td>97.039828</td>\n      <td>91.334769</td>\n    </tr>\n    <tr>\n      <th>Figueroa High School</th>\n      <td>District</td>\n      <td>2949</td>\n      <td>$1,884,411.00</td>\n      <td>$639.00</td>\n      <td>76.711767</td>\n      <td>81.158020</td>\n      <td>65.988471</td>\n      <td>80.739234</td>\n      <td>53.204476</td>\n    </tr>\n    <tr>\n      <th>Ford High School</th>\n      <td>District</td>\n      <td>2739</td>\n      <td>$1,763,916.00</td>\n      <td>$644.00</td>\n      <td>77.102592</td>\n      <td>80.746258</td>\n      <td>68.309602</td>\n      <td>79.299014</td>\n      <td>54.289887</td>\n    </tr>\n    <tr>\n      <th>Griffin High School</th>\n      <td>Charter</td>\n      <td>1468</td>\n      <td>$917,500.00</td>\n      <td>$625.00</td>\n      <td>83.351499</td>\n      <td>83.816757</td>\n      <td>93.392371</td>\n      <td>97.138965</td>\n      <td>90.599455</td>\n    </tr>\n    <tr>\n      <th>Hernandez High School</th>\n      <td>District</td>\n      <td>4635</td>\n      <td>$3,022,020.00</td>\n      <td>$652.00</td>\n      <td>77.289752</td>\n      <td>80.934412</td>\n      <td>66.752967</td>\n      <td>80.862999</td>\n      <td>53.527508</td>\n    </tr>\n    <tr>\n      <th>Holden High School</th>\n      <td>Charter</td>\n      <td>427</td>\n      <td>$248,087.00</td>\n      <td>$581.00</td>\n      <td>83.803279</td>\n      <td>83.814988</td>\n      <td>92.505855</td>\n      <td>96.252927</td>\n      <td>89.227166</td>\n    </tr>\n    <tr>\n      <th>Huang High School</th>\n      <td>District</td>\n      <td>2917</td>\n      <td>$1,910,635.00</td>\n      <td>$655.00</td>\n      <td>76.629414</td>\n      <td>81.182722</td>\n      <td>65.683922</td>\n      <td>81.316421</td>\n      <td>53.513884</td>\n    </tr>\n    <tr>\n      <th>Johnson High School</th>\n      <td>District</td>\n      <td>4761</td>\n      <td>$3,094,650.00</td>\n      <td>$650.00</td>\n      <td>77.072464</td>\n      <td>80.966394</td>\n      <td>66.057551</td>\n      <td>81.222432</td>\n      <td>53.539172</td>\n    </tr>\n    <tr>\n      <th>Pena High School</th>\n      <td>Charter</td>\n      <td>962</td>\n      <td>$585,858.00</td>\n      <td>$609.00</td>\n      <td>83.839917</td>\n      <td>84.044699</td>\n      <td>94.594595</td>\n      <td>95.945946</td>\n      <td>90.540541</td>\n    </tr>\n    <tr>\n      <th>Rodriguez High School</th>\n      <td>District</td>\n      <td>3999</td>\n      <td>$2,547,363.00</td>\n      <td>$637.00</td>\n      <td>76.842711</td>\n      <td>80.744686</td>\n      <td>66.366592</td>\n      <td>80.220055</td>\n      <td>52.988247</td>\n    </tr>\n    <tr>\n      <th>Shelton High School</th>\n      <td>Charter</td>\n      <td>1761</td>\n      <td>$1,056,600.00</td>\n      <td>$600.00</td>\n      <td>83.359455</td>\n      <td>83.725724</td>\n      <td>93.867121</td>\n      <td>95.854628</td>\n      <td>89.892107</td>\n    </tr>\n    <tr>\n      <th>Thomas High School</th>\n      <td>Charter</td>\n      <td>1635</td>\n      <td>$1,043,130.00</td>\n      <td>$638.00</td>\n      <td>83.418349</td>\n      <td>83.848930</td>\n      <td>93.272171</td>\n      <td>97.308869</td>\n      <td>90.948012</td>\n    </tr>\n    <tr>\n      <th>Wilson High School</th>\n      <td>Charter</td>\n      <td>2283</td>\n      <td>$1,319,574.00</td>\n      <td>$578.00</td>\n      <td>83.274201</td>\n      <td>83.989488</td>\n      <td>93.867718</td>\n      <td>96.539641</td>\n      <td>90.582567</td>\n    </tr>\n    <tr>\n      <th>Wright High School</th>\n      <td>Charter</td>\n      <td>1800</td>\n      <td>$1,049,400.00</td>\n      <td>$583.00</td>\n      <td>83.682222</td>\n      <td>83.955000</td>\n      <td>93.333333</td>\n      <td>96.611111</td>\n      <td>90.333333</td>\n    </tr>\n  </tbody>\n</table>\n</div>"
     },
     "metadata": {},
     "execution_count": 3
    }
   ],
   "source": [
    "# Create a dataframe from school data\n",
    "columns_needed = [\"school_name\", \"type\", \"size\", \"budget\"]\n",
    "school_df = school_data[columns_needed].sort_values([\"school_name\"])\n",
    "\n",
    "# Get Per Student Budget\n",
    "school_df[\"Per Student Budget\"] = school_df[\"budget\"] / school_df[\"size\"]\n",
    "\n",
    "# Filter two columns with grouping by school names\n",
    "score_group = school_data_complete.groupby(\"school_name\")[[\"math_score\", \"reading_score\"]]\n",
    "\n",
    "# Get the average math and reading scores, then merge\n",
    "school_group = score_group.mean()\n",
    "school_df = pd.merge(school_df, school_group, on = \"school_name\", how = \"outer\")\n",
    "\n",
    "# Get the passing student percentage of math and reading, then merge\n",
    "school_group2 = score_group.apply(lambda x: (x >= 70).sum() / (x >= 0).sum() * 100)\n",
    "school_df = pd.merge(school_df, school_group2, on = \"school_name\", how = \"outer\")\n",
    "\n",
    "# Using apply to get student percentage (passing both), then merge\n",
    "school_group3 = score_group.apply(\n",
    "    lambda x: ((x[\"math_score\"] >= 70) & (x[\"reading_score\"] >= 70)).sum() / (x >= 0).sum() * 100)['math_score']\n",
    "school_df = pd.merge(school_df, school_group3, on = \"school_name\", how = \"outer\")\n",
    "\n",
    "# Rename columns\n",
    "school_df = school_df.rename(columns = {\n",
    "    \"type\": \"School Type\",\n",
    "    \"size\": \"Total Students\",\n",
    "    \"budget\": \"Total School Budget\",\n",
    "    \"math_score_x\": \"Average Math Score\",\n",
    "    \"reading_score_x\": \"Average Reading Score\",\n",
    "    \"math_score_y\": \"% Passing Math\",\n",
    "    \"reading_score_y\": \"% Passing Reading\",\n",
    "    \"math_score\": \"% Overall Passing\"\n",
    "})\n",
    "\n",
    "# Set index to school name and re-index\n",
    "school_df.set_index(\"school_name\", drop = True, inplace = True)\n",
    "school_df = school_df.rename_axis(None)\n",
    "\n",
    "# Duplicate the dataframe to display formatted result \n",
    "school_df_display = school_df.copy()\n",
    "school_df_display[\"Total School Budget\"] = school_df_display[\"Total School Budget\"].map(\"${:,.2f}\".format)\n",
    "school_df_display[\"Per Student Budget\"] = school_df_display[\"Per Student Budget\"].map(\"${:,.2f}\".format)\n",
    "\n",
    "school_df_display"
   ]
  },
  {
   "cell_type": "markdown",
   "metadata": {},
   "source": [
    "## Top Performing Schools (By % Overall Passing)"
   ]
  },
  {
   "cell_type": "markdown",
   "metadata": {},
   "source": [
    "* Sort and display the top five performing schools by % overall passing."
   ]
  },
  {
   "cell_type": "code",
   "execution_count": 4,
   "metadata": {
    "scrolled": true
   },
   "outputs": [
    {
     "output_type": "execute_result",
     "data": {
      "text/plain": [
       "                    School Type  Total Students Total School Budget  \\\n",
       "Cabrera High School     Charter            1858       $1,081,356.00   \n",
       "Thomas High School      Charter            1635       $1,043,130.00   \n",
       "Griffin High School     Charter            1468         $917,500.00   \n",
       "Wilson High School      Charter            2283       $1,319,574.00   \n",
       "Pena High School        Charter             962         $585,858.00   \n",
       "\n",
       "                    Per Student Budget  Average Math Score  \\\n",
       "Cabrera High School            $582.00           83.061895   \n",
       "Thomas High School             $638.00           83.418349   \n",
       "Griffin High School            $625.00           83.351499   \n",
       "Wilson High School             $578.00           83.274201   \n",
       "Pena High School               $609.00           83.839917   \n",
       "\n",
       "                     Average Reading Score  % Passing Math  % Passing Reading  \\\n",
       "Cabrera High School              83.975780       94.133477          97.039828   \n",
       "Thomas High School               83.848930       93.272171          97.308869   \n",
       "Griffin High School              83.816757       93.392371          97.138965   \n",
       "Wilson High School               83.989488       93.867718          96.539641   \n",
       "Pena High School                 84.044699       94.594595          95.945946   \n",
       "\n",
       "                     % Overall Passing  \n",
       "Cabrera High School          91.334769  \n",
       "Thomas High School           90.948012  \n",
       "Griffin High School          90.599455  \n",
       "Wilson High School           90.582567  \n",
       "Pena High School             90.540541  "
      ],
      "text/html": "<div>\n<style scoped>\n    .dataframe tbody tr th:only-of-type {\n        vertical-align: middle;\n    }\n\n    .dataframe tbody tr th {\n        vertical-align: top;\n    }\n\n    .dataframe thead th {\n        text-align: right;\n    }\n</style>\n<table border=\"1\" class=\"dataframe\">\n  <thead>\n    <tr style=\"text-align: right;\">\n      <th></th>\n      <th>School Type</th>\n      <th>Total Students</th>\n      <th>Total School Budget</th>\n      <th>Per Student Budget</th>\n      <th>Average Math Score</th>\n      <th>Average Reading Score</th>\n      <th>% Passing Math</th>\n      <th>% Passing Reading</th>\n      <th>% Overall Passing</th>\n    </tr>\n  </thead>\n  <tbody>\n    <tr>\n      <th>Cabrera High School</th>\n      <td>Charter</td>\n      <td>1858</td>\n      <td>$1,081,356.00</td>\n      <td>$582.00</td>\n      <td>83.061895</td>\n      <td>83.975780</td>\n      <td>94.133477</td>\n      <td>97.039828</td>\n      <td>91.334769</td>\n    </tr>\n    <tr>\n      <th>Thomas High School</th>\n      <td>Charter</td>\n      <td>1635</td>\n      <td>$1,043,130.00</td>\n      <td>$638.00</td>\n      <td>83.418349</td>\n      <td>83.848930</td>\n      <td>93.272171</td>\n      <td>97.308869</td>\n      <td>90.948012</td>\n    </tr>\n    <tr>\n      <th>Griffin High School</th>\n      <td>Charter</td>\n      <td>1468</td>\n      <td>$917,500.00</td>\n      <td>$625.00</td>\n      <td>83.351499</td>\n      <td>83.816757</td>\n      <td>93.392371</td>\n      <td>97.138965</td>\n      <td>90.599455</td>\n    </tr>\n    <tr>\n      <th>Wilson High School</th>\n      <td>Charter</td>\n      <td>2283</td>\n      <td>$1,319,574.00</td>\n      <td>$578.00</td>\n      <td>83.274201</td>\n      <td>83.989488</td>\n      <td>93.867718</td>\n      <td>96.539641</td>\n      <td>90.582567</td>\n    </tr>\n    <tr>\n      <th>Pena High School</th>\n      <td>Charter</td>\n      <td>962</td>\n      <td>$585,858.00</td>\n      <td>$609.00</td>\n      <td>83.839917</td>\n      <td>84.044699</td>\n      <td>94.594595</td>\n      <td>95.945946</td>\n      <td>90.540541</td>\n    </tr>\n  </tbody>\n</table>\n</div>"
     },
     "metadata": {},
     "execution_count": 4
    }
   ],
   "source": [
    "# Sort values with first 5 rows\n",
    "top_performing_school = school_df_display.sort_values(\"% Overall Passing\", ascending = False).iloc[0:5]\n",
    "top_performing_school"
   ]
  },
  {
   "cell_type": "markdown",
   "metadata": {},
   "source": [
    "## Bottom Performing Schools (By % Overall Passing)"
   ]
  },
  {
   "cell_type": "markdown",
   "metadata": {},
   "source": [
    "* Sort and display the five worst-performing schools by % overall passing."
   ]
  },
  {
   "cell_type": "code",
   "execution_count": 5,
   "metadata": {},
   "outputs": [
    {
     "output_type": "execute_result",
     "data": {
      "text/plain": [
       "                      School Type  Total Students Total School Budget  \\\n",
       "Rodriguez High School    District            3999       $2,547,363.00   \n",
       "Figueroa High School     District            2949       $1,884,411.00   \n",
       "Huang High School        District            2917       $1,910,635.00   \n",
       "Hernandez High School    District            4635       $3,022,020.00   \n",
       "Johnson High School      District            4761       $3,094,650.00   \n",
       "\n",
       "                      Per Student Budget  Average Math Score  \\\n",
       "Rodriguez High School            $637.00           76.842711   \n",
       "Figueroa High School             $639.00           76.711767   \n",
       "Huang High School                $655.00           76.629414   \n",
       "Hernandez High School            $652.00           77.289752   \n",
       "Johnson High School              $650.00           77.072464   \n",
       "\n",
       "                       Average Reading Score  % Passing Math  \\\n",
       "Rodriguez High School              80.744686       66.366592   \n",
       "Figueroa High School               81.158020       65.988471   \n",
       "Huang High School                  81.182722       65.683922   \n",
       "Hernandez High School              80.934412       66.752967   \n",
       "Johnson High School                80.966394       66.057551   \n",
       "\n",
       "                       % Passing Reading  % Overall Passing  \n",
       "Rodriguez High School          80.220055          52.988247  \n",
       "Figueroa High School           80.739234          53.204476  \n",
       "Huang High School              81.316421          53.513884  \n",
       "Hernandez High School          80.862999          53.527508  \n",
       "Johnson High School            81.222432          53.539172  "
      ],
      "text/html": "<div>\n<style scoped>\n    .dataframe tbody tr th:only-of-type {\n        vertical-align: middle;\n    }\n\n    .dataframe tbody tr th {\n        vertical-align: top;\n    }\n\n    .dataframe thead th {\n        text-align: right;\n    }\n</style>\n<table border=\"1\" class=\"dataframe\">\n  <thead>\n    <tr style=\"text-align: right;\">\n      <th></th>\n      <th>School Type</th>\n      <th>Total Students</th>\n      <th>Total School Budget</th>\n      <th>Per Student Budget</th>\n      <th>Average Math Score</th>\n      <th>Average Reading Score</th>\n      <th>% Passing Math</th>\n      <th>% Passing Reading</th>\n      <th>% Overall Passing</th>\n    </tr>\n  </thead>\n  <tbody>\n    <tr>\n      <th>Rodriguez High School</th>\n      <td>District</td>\n      <td>3999</td>\n      <td>$2,547,363.00</td>\n      <td>$637.00</td>\n      <td>76.842711</td>\n      <td>80.744686</td>\n      <td>66.366592</td>\n      <td>80.220055</td>\n      <td>52.988247</td>\n    </tr>\n    <tr>\n      <th>Figueroa High School</th>\n      <td>District</td>\n      <td>2949</td>\n      <td>$1,884,411.00</td>\n      <td>$639.00</td>\n      <td>76.711767</td>\n      <td>81.158020</td>\n      <td>65.988471</td>\n      <td>80.739234</td>\n      <td>53.204476</td>\n    </tr>\n    <tr>\n      <th>Huang High School</th>\n      <td>District</td>\n      <td>2917</td>\n      <td>$1,910,635.00</td>\n      <td>$655.00</td>\n      <td>76.629414</td>\n      <td>81.182722</td>\n      <td>65.683922</td>\n      <td>81.316421</td>\n      <td>53.513884</td>\n    </tr>\n    <tr>\n      <th>Hernandez High School</th>\n      <td>District</td>\n      <td>4635</td>\n      <td>$3,022,020.00</td>\n      <td>$652.00</td>\n      <td>77.289752</td>\n      <td>80.934412</td>\n      <td>66.752967</td>\n      <td>80.862999</td>\n      <td>53.527508</td>\n    </tr>\n    <tr>\n      <th>Johnson High School</th>\n      <td>District</td>\n      <td>4761</td>\n      <td>$3,094,650.00</td>\n      <td>$650.00</td>\n      <td>77.072464</td>\n      <td>80.966394</td>\n      <td>66.057551</td>\n      <td>81.222432</td>\n      <td>53.539172</td>\n    </tr>\n  </tbody>\n</table>\n</div>"
     },
     "metadata": {},
     "execution_count": 5
    }
   ],
   "source": [
    "# Sort values with first 5 rows\n",
    "bottom_performing_school = school_df_display.sort_values(\"% Overall Passing\", ascending = True).iloc[0:5]\n",
    "bottom_performing_school"
   ]
  },
  {
   "cell_type": "markdown",
   "metadata": {
    "collapsed": true
   },
   "source": [
    "## Math Scores by Grade"
   ]
  },
  {
   "cell_type": "markdown",
   "metadata": {},
   "source": [
    "* Create a table that lists the average Reading Score for students of each grade level (9th, 10th, 11th, 12th) at each school.\n",
    "\n",
    "  * Create a pandas series for each grade. Hint: use a conditional statement.\n",
    "  \n",
    "  * Group each series by school\n",
    "  \n",
    "  * Combine the series into a dataframe\n",
    "  \n",
    "  * Optional: give the displayed data cleaner formatting"
   ]
  },
  {
   "cell_type": "code",
   "execution_count": 6,
   "metadata": {},
   "outputs": [
    {
     "output_type": "execute_result",
     "data": {
      "text/plain": [
       "                         9th   10th   11th   12th\n",
       "Bailey High School     77.08  77.00  77.52  76.49\n",
       "Cabrera High School    83.09  83.15  82.77  83.28\n",
       "Figueroa High School   76.40  76.54  76.88  77.15\n",
       "Ford High School       77.36  77.67  76.92  76.18\n",
       "Griffin High School    82.04  84.23  83.84  83.36\n",
       "Hernandez High School  77.44  77.34  77.14  77.19\n",
       "Holden High School     83.79  83.43  85.00  82.86\n",
       "Huang High School      77.03  75.91  76.45  77.23\n",
       "Johnson High School    77.19  76.69  77.49  76.86\n",
       "Pena High School       83.63  83.37  84.33  84.12\n",
       "Rodriguez High School  76.86  76.61  76.40  77.69\n",
       "Shelton High School    83.42  82.92  83.38  83.78\n",
       "Thomas High School     83.59  83.09  83.50  83.50\n",
       "Wilson High School     83.09  83.72  83.20  83.04\n",
       "Wright High School     83.26  84.01  83.84  83.64"
      ],
      "text/html": "<div>\n<style scoped>\n    .dataframe tbody tr th:only-of-type {\n        vertical-align: middle;\n    }\n\n    .dataframe tbody tr th {\n        vertical-align: top;\n    }\n\n    .dataframe thead th {\n        text-align: right;\n    }\n</style>\n<table border=\"1\" class=\"dataframe\">\n  <thead>\n    <tr style=\"text-align: right;\">\n      <th></th>\n      <th>9th</th>\n      <th>10th</th>\n      <th>11th</th>\n      <th>12th</th>\n    </tr>\n  </thead>\n  <tbody>\n    <tr>\n      <th>Bailey High School</th>\n      <td>77.08</td>\n      <td>77.00</td>\n      <td>77.52</td>\n      <td>76.49</td>\n    </tr>\n    <tr>\n      <th>Cabrera High School</th>\n      <td>83.09</td>\n      <td>83.15</td>\n      <td>82.77</td>\n      <td>83.28</td>\n    </tr>\n    <tr>\n      <th>Figueroa High School</th>\n      <td>76.40</td>\n      <td>76.54</td>\n      <td>76.88</td>\n      <td>77.15</td>\n    </tr>\n    <tr>\n      <th>Ford High School</th>\n      <td>77.36</td>\n      <td>77.67</td>\n      <td>76.92</td>\n      <td>76.18</td>\n    </tr>\n    <tr>\n      <th>Griffin High School</th>\n      <td>82.04</td>\n      <td>84.23</td>\n      <td>83.84</td>\n      <td>83.36</td>\n    </tr>\n    <tr>\n      <th>Hernandez High School</th>\n      <td>77.44</td>\n      <td>77.34</td>\n      <td>77.14</td>\n      <td>77.19</td>\n    </tr>\n    <tr>\n      <th>Holden High School</th>\n      <td>83.79</td>\n      <td>83.43</td>\n      <td>85.00</td>\n      <td>82.86</td>\n    </tr>\n    <tr>\n      <th>Huang High School</th>\n      <td>77.03</td>\n      <td>75.91</td>\n      <td>76.45</td>\n      <td>77.23</td>\n    </tr>\n    <tr>\n      <th>Johnson High School</th>\n      <td>77.19</td>\n      <td>76.69</td>\n      <td>77.49</td>\n      <td>76.86</td>\n    </tr>\n    <tr>\n      <th>Pena High School</th>\n      <td>83.63</td>\n      <td>83.37</td>\n      <td>84.33</td>\n      <td>84.12</td>\n    </tr>\n    <tr>\n      <th>Rodriguez High School</th>\n      <td>76.86</td>\n      <td>76.61</td>\n      <td>76.40</td>\n      <td>77.69</td>\n    </tr>\n    <tr>\n      <th>Shelton High School</th>\n      <td>83.42</td>\n      <td>82.92</td>\n      <td>83.38</td>\n      <td>83.78</td>\n    </tr>\n    <tr>\n      <th>Thomas High School</th>\n      <td>83.59</td>\n      <td>83.09</td>\n      <td>83.50</td>\n      <td>83.50</td>\n    </tr>\n    <tr>\n      <th>Wilson High School</th>\n      <td>83.09</td>\n      <td>83.72</td>\n      <td>83.20</td>\n      <td>83.04</td>\n    </tr>\n    <tr>\n      <th>Wright High School</th>\n      <td>83.26</td>\n      <td>84.01</td>\n      <td>83.84</td>\n      <td>83.64</td>\n    </tr>\n  </tbody>\n</table>\n</div>"
     },
     "metadata": {},
     "execution_count": 6
    }
   ],
   "source": [
    "# Using conditional statement to get students of each grade level\n",
    "nineth_grade = school_data_complete[school_data_complete[\"grade\"] == \"9th\"]\n",
    "nineth_grade_math = nineth_grade.groupby([\"school_name\"]).mean()[\"math_score\"]\n",
    "\n",
    "tenth_grade = school_data_complete[school_data_complete[\"grade\"] == \"10th\"]\n",
    "tenth_grade_math = tenth_grade.groupby([\"school_name\"]).mean()[\"math_score\"]\n",
    "\n",
    "eleventh_grade = school_data_complete[school_data_complete[\"grade\"] == \"11th\"]\n",
    "eleventh_grade_math = eleventh_grade.groupby([\"school_name\"]).mean()[\"math_score\"]\n",
    "\n",
    "twelfth_grade = school_data_complete[school_data_complete[\"grade\"] == \"12th\"]\n",
    "twelfth_grade_math = twelfth_grade.groupby([\"school_name\"]).mean()[\"math_score\"]\n",
    "\n",
    "# Combine each series into a new dataframe\n",
    "math_grade_df = pd.DataFrame({\n",
    "    \"9th\": nineth_grade_math, \n",
    "    \"10th\": tenth_grade_math,\n",
    "    \"11th\": eleventh_grade_math,\n",
    "    \"12th\": twelfth_grade_math})\n",
    "math_grade_df = math_grade_df.rename_axis(None)\n",
    "\n",
    "# Give the data a cleaner formatting\n",
    "math_grade_df[\"9th\"] = math_grade_df[\"9th\"].map(\"{:.2f}\".format)\n",
    "math_grade_df[\"10th\"] = math_grade_df[\"10th\"].map(\"{:.2f}\".format)\n",
    "math_grade_df[\"11th\"] = math_grade_df[\"11th\"].map(\"{:.2f}\".format)\n",
    "math_grade_df[\"12th\"] = math_grade_df[\"12th\"].map(\"{:.2f}\".format)\n",
    "\n",
    "math_grade_df"
   ]
  },
  {
   "cell_type": "markdown",
   "metadata": {},
   "source": [
    "## Reading Score by Grade "
   ]
  },
  {
   "cell_type": "markdown",
   "metadata": {},
   "source": [
    "* Perform the same operations as above for reading scores"
   ]
  },
  {
   "cell_type": "code",
   "execution_count": 7,
   "metadata": {},
   "outputs": [
    {
     "output_type": "execute_result",
     "data": {
      "text/plain": [
       "                         9th   10th   11th   12th\n",
       "Bailey High School     81.30  80.91  80.95  80.91\n",
       "Cabrera High School    83.68  84.25  83.79  84.29\n",
       "Figueroa High School   81.20  81.41  80.64  81.38\n",
       "Ford High School       80.63  81.26  80.40  80.66\n",
       "Griffin High School    83.37  83.71  84.29  84.01\n",
       "Hernandez High School  80.87  80.66  81.40  80.86\n",
       "Holden High School     83.68  83.32  83.82  84.70\n",
       "Huang High School      81.29  81.51  81.42  80.31\n",
       "Johnson High School    81.26  80.77  80.62  81.23\n",
       "Pena High School       83.81  83.61  84.34  84.59\n",
       "Rodriguez High School  80.99  80.63  80.86  80.38\n",
       "Shelton High School    84.12  83.44  84.37  82.78\n",
       "Thomas High School     83.73  84.25  83.59  83.83\n",
       "Wilson High School     83.94  84.02  83.76  84.32\n",
       "Wright High School     83.83  83.81  84.16  84.07"
      ],
      "text/html": "<div>\n<style scoped>\n    .dataframe tbody tr th:only-of-type {\n        vertical-align: middle;\n    }\n\n    .dataframe tbody tr th {\n        vertical-align: top;\n    }\n\n    .dataframe thead th {\n        text-align: right;\n    }\n</style>\n<table border=\"1\" class=\"dataframe\">\n  <thead>\n    <tr style=\"text-align: right;\">\n      <th></th>\n      <th>9th</th>\n      <th>10th</th>\n      <th>11th</th>\n      <th>12th</th>\n    </tr>\n  </thead>\n  <tbody>\n    <tr>\n      <th>Bailey High School</th>\n      <td>81.30</td>\n      <td>80.91</td>\n      <td>80.95</td>\n      <td>80.91</td>\n    </tr>\n    <tr>\n      <th>Cabrera High School</th>\n      <td>83.68</td>\n      <td>84.25</td>\n      <td>83.79</td>\n      <td>84.29</td>\n    </tr>\n    <tr>\n      <th>Figueroa High School</th>\n      <td>81.20</td>\n      <td>81.41</td>\n      <td>80.64</td>\n      <td>81.38</td>\n    </tr>\n    <tr>\n      <th>Ford High School</th>\n      <td>80.63</td>\n      <td>81.26</td>\n      <td>80.40</td>\n      <td>80.66</td>\n    </tr>\n    <tr>\n      <th>Griffin High School</th>\n      <td>83.37</td>\n      <td>83.71</td>\n      <td>84.29</td>\n      <td>84.01</td>\n    </tr>\n    <tr>\n      <th>Hernandez High School</th>\n      <td>80.87</td>\n      <td>80.66</td>\n      <td>81.40</td>\n      <td>80.86</td>\n    </tr>\n    <tr>\n      <th>Holden High School</th>\n      <td>83.68</td>\n      <td>83.32</td>\n      <td>83.82</td>\n      <td>84.70</td>\n    </tr>\n    <tr>\n      <th>Huang High School</th>\n      <td>81.29</td>\n      <td>81.51</td>\n      <td>81.42</td>\n      <td>80.31</td>\n    </tr>\n    <tr>\n      <th>Johnson High School</th>\n      <td>81.26</td>\n      <td>80.77</td>\n      <td>80.62</td>\n      <td>81.23</td>\n    </tr>\n    <tr>\n      <th>Pena High School</th>\n      <td>83.81</td>\n      <td>83.61</td>\n      <td>84.34</td>\n      <td>84.59</td>\n    </tr>\n    <tr>\n      <th>Rodriguez High School</th>\n      <td>80.99</td>\n      <td>80.63</td>\n      <td>80.86</td>\n      <td>80.38</td>\n    </tr>\n    <tr>\n      <th>Shelton High School</th>\n      <td>84.12</td>\n      <td>83.44</td>\n      <td>84.37</td>\n      <td>82.78</td>\n    </tr>\n    <tr>\n      <th>Thomas High School</th>\n      <td>83.73</td>\n      <td>84.25</td>\n      <td>83.59</td>\n      <td>83.83</td>\n    </tr>\n    <tr>\n      <th>Wilson High School</th>\n      <td>83.94</td>\n      <td>84.02</td>\n      <td>83.76</td>\n      <td>84.32</td>\n    </tr>\n    <tr>\n      <th>Wright High School</th>\n      <td>83.83</td>\n      <td>83.81</td>\n      <td>84.16</td>\n      <td>84.07</td>\n    </tr>\n  </tbody>\n</table>\n</div>"
     },
     "metadata": {},
     "execution_count": 7
    }
   ],
   "source": [
    "# Using the conditional grade groups from above\n",
    "# Get series for reading score for each grade level\n",
    "nineth_grade_reading = nineth_grade.groupby([\"school_name\"]).mean()[\"reading_score\"]\n",
    "tenth_grade_reading = tenth_grade.groupby([\"school_name\"]).mean()[\"reading_score\"]\n",
    "eleventh_grade_reading = eleventh_grade.groupby([\"school_name\"]).mean()[\"reading_score\"]\n",
    "twelfth_grade_reading = twelfth_grade.groupby([\"school_name\"]).mean()[\"reading_score\"]\n",
    "\n",
    "# Combine each series into a new dataframe\n",
    "reading_grade_df = pd.DataFrame({\n",
    "    \"9th\": nineth_grade_reading, \n",
    "    \"10th\": tenth_grade_reading,\n",
    "    \"11th\": eleventh_grade_reading,\n",
    "    \"12th\": twelfth_grade_reading})\n",
    "reading_grade_df = reading_grade_df.rename_axis(None)\n",
    "\n",
    "# Give the data a cleaner formatting\n",
    "reading_grade_df[\"9th\"] = reading_grade_df[\"9th\"].map(\"{:.2f}\".format)\n",
    "reading_grade_df[\"10th\"] = reading_grade_df[\"10th\"].map(\"{:.2f}\".format)\n",
    "reading_grade_df[\"11th\"] = reading_grade_df[\"11th\"].map(\"{:.2f}\".format)\n",
    "reading_grade_df[\"12th\"] = reading_grade_df[\"12th\"].map(\"{:.2f}\".format)\n",
    "\n",
    "reading_grade_df"
   ]
  },
  {
   "cell_type": "markdown",
   "metadata": {},
   "source": [
    "## Scores by School Spending"
   ]
  },
  {
   "cell_type": "markdown",
   "metadata": {},
   "source": [
    "* Create a table that breaks down school performances based on average Spending Ranges (Per Student). Use 4 reasonable bins to group school spending. Include in the table each of the following:\n",
    "  * Average Math Score\n",
    "  * Average Reading Score\n",
    "  * % Passing Math\n",
    "  * % Passing Reading\n",
    "  * Overall Passing Rate (Average of the above two)"
   ]
  },
  {
   "cell_type": "code",
   "execution_count": 8,
   "metadata": {},
   "outputs": [
    {
     "output_type": "execute_result",
     "data": {
      "text/plain": [
       "                              Average Math Score Average Reading Score  \\\n",
       "Spending Ranges (Per Student)                                            \n",
       "<$584                                      83.46                 83.93   \n",
       "$585-629                                   81.90                 83.16   \n",
       "$630-644                                   78.52                 81.62   \n",
       "$645-675                                   77.00                 81.03   \n",
       "\n",
       "                              % Passing Math % Passing Reading  \\\n",
       "Spending Ranges (Per Student)                                    \n",
       "<$584                                  93.46             96.61   \n",
       "$585-629                               87.13             92.72   \n",
       "$630-644                               73.48             84.39   \n",
       "$645-675                               66.16             81.13   \n",
       "\n",
       "                              % Overall Passing  \n",
       "Spending Ranges (Per Student)                    \n",
       "<$584                                     90.37  \n",
       "$585-629                                  81.42  \n",
       "$630-644                                  62.86  \n",
       "$645-675                                  53.53  "
      ],
      "text/html": "<div>\n<style scoped>\n    .dataframe tbody tr th:only-of-type {\n        vertical-align: middle;\n    }\n\n    .dataframe tbody tr th {\n        vertical-align: top;\n    }\n\n    .dataframe thead th {\n        text-align: right;\n    }\n</style>\n<table border=\"1\" class=\"dataframe\">\n  <thead>\n    <tr style=\"text-align: right;\">\n      <th></th>\n      <th>Average Math Score</th>\n      <th>Average Reading Score</th>\n      <th>% Passing Math</th>\n      <th>% Passing Reading</th>\n      <th>% Overall Passing</th>\n    </tr>\n    <tr>\n      <th>Spending Ranges (Per Student)</th>\n      <th></th>\n      <th></th>\n      <th></th>\n      <th></th>\n      <th></th>\n    </tr>\n  </thead>\n  <tbody>\n    <tr>\n      <th>&lt;$584</th>\n      <td>83.46</td>\n      <td>83.93</td>\n      <td>93.46</td>\n      <td>96.61</td>\n      <td>90.37</td>\n    </tr>\n    <tr>\n      <th>$585-629</th>\n      <td>81.90</td>\n      <td>83.16</td>\n      <td>87.13</td>\n      <td>92.72</td>\n      <td>81.42</td>\n    </tr>\n    <tr>\n      <th>$630-644</th>\n      <td>78.52</td>\n      <td>81.62</td>\n      <td>73.48</td>\n      <td>84.39</td>\n      <td>62.86</td>\n    </tr>\n    <tr>\n      <th>$645-675</th>\n      <td>77.00</td>\n      <td>81.03</td>\n      <td>66.16</td>\n      <td>81.13</td>\n      <td>53.53</td>\n    </tr>\n  </tbody>\n</table>\n</div>"
     },
     "metadata": {},
     "execution_count": 8
    }
   ],
   "source": [
    "# Create a dataframe to get required columns\n",
    "school_peform_df = school_df[\n",
    "    [\"Per Student Budget\",\n",
    "    \"Average Math Score\",\n",
    "    \"Average Reading Score\",\n",
    "    \"% Passing Math\",\n",
    "    \"% Passing Reading\",\n",
    "    \"% Overall Passing\"]]\n",
    "\n",
    "# Create bins and labels for cut\n",
    "bins = [0, 584, 629, 644, 675]\n",
    "spending_ranges = [\"<$584\", \"$585-629\", \"$630-644\", \"$645-675\"]\n",
    "\n",
    "# Cut by using bins/labels\n",
    "school_peform_df[\"Spending Ranges (Per Student)\"] = pd.cut(school_peform_df[\"Per Student Budget\"], bins, labels = spending_ranges)\n",
    "\n",
    "# Group by spending ranges and get the mean\n",
    "school_perform_group = school_peform_df.groupby(\"Spending Ranges (Per Student)\").mean()\n",
    "school_perform_group.drop(\"Per Student Budget\", axis = 1, inplace = True)\n",
    "\n",
    "# Give the data a cleaner formatting\n",
    "school_perform_group[\"Average Math Score\"] = school_perform_group[\"Average Math Score\"].map(\"{:.2f}\".format)\n",
    "school_perform_group[\"Average Reading Score\"] = school_perform_group[\"Average Reading Score\"].map(\"{:.2f}\".format)\n",
    "school_perform_group[\"% Passing Math\"] = school_perform_group[\"% Passing Math\"].map(\"{:.2f}\".format)\n",
    "school_perform_group[\"% Passing Reading\"] = school_perform_group[\"% Passing Reading\"].map(\"{:.2f}\".format)\n",
    "school_perform_group[\"% Overall Passing\"] = school_perform_group[\"% Overall Passing\"].map(\"{:.2f}\".format)\n",
    "\n",
    "school_perform_group"
   ]
  },
  {
   "cell_type": "markdown",
   "metadata": {},
   "source": [
    "## Scores by School Size"
   ]
  },
  {
   "cell_type": "markdown",
   "metadata": {},
   "source": [
    "* Perform the same operations as above, based on school size."
   ]
  },
  {
   "cell_type": "code",
   "execution_count": 9,
   "metadata": {
    "scrolled": true
   },
   "outputs": [
    {
     "output_type": "execute_result",
     "data": {
      "text/plain": [
       "                    Average Math Score  Average Reading Score  % Passing Math  \\\n",
       "School Size                                                                     \n",
       "Small (<1000)                83.821598              83.929843       93.550225   \n",
       "Medium (1000-2000)           83.374684              83.864438       93.599695   \n",
       "Large (2000-5000)            77.746417              81.344493       69.963361   \n",
       "\n",
       "                    % Passing Reading  % Overall Passing  \n",
       "School Size                                               \n",
       "Small (<1000)               96.099437          89.883853  \n",
       "Medium (1000-2000)          96.790680          90.621535  \n",
       "Large (2000-5000)           82.766634          58.286003  "
      ],
      "text/html": "<div>\n<style scoped>\n    .dataframe tbody tr th:only-of-type {\n        vertical-align: middle;\n    }\n\n    .dataframe tbody tr th {\n        vertical-align: top;\n    }\n\n    .dataframe thead th {\n        text-align: right;\n    }\n</style>\n<table border=\"1\" class=\"dataframe\">\n  <thead>\n    <tr style=\"text-align: right;\">\n      <th></th>\n      <th>Average Math Score</th>\n      <th>Average Reading Score</th>\n      <th>% Passing Math</th>\n      <th>% Passing Reading</th>\n      <th>% Overall Passing</th>\n    </tr>\n    <tr>\n      <th>School Size</th>\n      <th></th>\n      <th></th>\n      <th></th>\n      <th></th>\n      <th></th>\n    </tr>\n  </thead>\n  <tbody>\n    <tr>\n      <th>Small (&lt;1000)</th>\n      <td>83.821598</td>\n      <td>83.929843</td>\n      <td>93.550225</td>\n      <td>96.099437</td>\n      <td>89.883853</td>\n    </tr>\n    <tr>\n      <th>Medium (1000-2000)</th>\n      <td>83.374684</td>\n      <td>83.864438</td>\n      <td>93.599695</td>\n      <td>96.790680</td>\n      <td>90.621535</td>\n    </tr>\n    <tr>\n      <th>Large (2000-5000)</th>\n      <td>77.746417</td>\n      <td>81.344493</td>\n      <td>69.963361</td>\n      <td>82.766634</td>\n      <td>58.286003</td>\n    </tr>\n  </tbody>\n</table>\n</div>"
     },
     "metadata": {},
     "execution_count": 9
    }
   ],
   "source": [
    "# Create a dataframe to get required columns\n",
    "school_size_df = school_df[\n",
    "    [\"Total Students\",\n",
    "    \"Average Math Score\",\n",
    "    \"Average Reading Score\",\n",
    "    \"% Passing Math\",\n",
    "    \"% Passing Reading\",\n",
    "    \"% Overall Passing\"]]\n",
    "\n",
    "# Create bins and labels for cut\n",
    "bins = [0, 999, 1999, 5000]\n",
    "school_sizes = [\"Small (<1000)\", \"Medium (1000-2000)\", \"Large (2000-5000)\"]\n",
    "\n",
    "# Cut by using bins/labels\n",
    "school_size_df[\"School Size\"] = pd.cut(school_size_df[\"Total Students\"], bins, labels = school_sizes)\n",
    "\n",
    "# Group by school size and get the mean\n",
    "school_size_df = school_size_df.groupby(\"School Size\").mean()\n",
    "school_size_df.drop(\"Total Students\", axis = 1, inplace = True)\n",
    "\n",
    "school_size_df"
   ]
  },
  {
   "cell_type": "markdown",
   "metadata": {},
   "source": [
    "## Scores by School Type"
   ]
  },
  {
   "cell_type": "markdown",
   "metadata": {},
   "source": [
    "* Perform the same operations as above, based on school type"
   ]
  },
  {
   "cell_type": "code",
   "execution_count": 10,
   "metadata": {},
   "outputs": [
    {
     "output_type": "execute_result",
     "data": {
      "text/plain": [
       "             Average Math Score  Average Reading Score  % Passing Math  \\\n",
       "School Type                                                              \n",
       "Charter               83.473852              83.896421       93.620830   \n",
       "District              76.956733              80.966636       66.548453   \n",
       "\n",
       "             % Passing Reading  % Overall Passing  \n",
       "School Type                                        \n",
       "Charter              96.586489          90.432244  \n",
       "District             80.799062          53.672208  "
      ],
      "text/html": "<div>\n<style scoped>\n    .dataframe tbody tr th:only-of-type {\n        vertical-align: middle;\n    }\n\n    .dataframe tbody tr th {\n        vertical-align: top;\n    }\n\n    .dataframe thead th {\n        text-align: right;\n    }\n</style>\n<table border=\"1\" class=\"dataframe\">\n  <thead>\n    <tr style=\"text-align: right;\">\n      <th></th>\n      <th>Average Math Score</th>\n      <th>Average Reading Score</th>\n      <th>% Passing Math</th>\n      <th>% Passing Reading</th>\n      <th>% Overall Passing</th>\n    </tr>\n    <tr>\n      <th>School Type</th>\n      <th></th>\n      <th></th>\n      <th></th>\n      <th></th>\n      <th></th>\n    </tr>\n  </thead>\n  <tbody>\n    <tr>\n      <th>Charter</th>\n      <td>83.473852</td>\n      <td>83.896421</td>\n      <td>93.620830</td>\n      <td>96.586489</td>\n      <td>90.432244</td>\n    </tr>\n    <tr>\n      <th>District</th>\n      <td>76.956733</td>\n      <td>80.966636</td>\n      <td>66.548453</td>\n      <td>80.799062</td>\n      <td>53.672208</td>\n    </tr>\n  </tbody>\n</table>\n</div>"
     },
     "metadata": {},
     "execution_count": 10
    }
   ],
   "source": [
    "# Create a dataframe to get required columns\n",
    "school_type_df = school_df[\n",
    "    [\"School Type\",\n",
    "    \"Average Math Score\",\n",
    "    \"Average Reading Score\",\n",
    "    \"% Passing Math\",\n",
    "    \"% Passing Reading\",\n",
    "    \"% Overall Passing\"]]\n",
    "\n",
    "# Group by school type and get the mean\n",
    "school_type_df = school_type_df.groupby(\"School Type\").mean()\n",
    "school_type_df"
   ]
  },
  {
   "source": [
    "# Observable Trends\n",
    "\n",
    "1. According to the report of Top/Bottom Performing Schools (By % Overall Passing), we can see that schools with higher overall passing rates (>90%) are all Charter schools. On the contrary, schools with lower overall passing rates (<54%) are all District schools.\n",
    "\n",
    "2. From the report of Math/Reading Scores by Grade, we can see that the math grades have no significant relationship with the grade level of students in the same school.\n",
    "1-top-schools\n",
    "\n",
    "3. From the report of Scores by School Spending, as the spending budget per students increases (from $584/student to $675/student), the overall passing percentage of math and reading decreases (from 90% to 54%).\n",
    "1-top-schools\n",
    "\n",
    "4. From the result of Scores by School Size, when the school has students more than 2000, the overall passing percentage drops from around 90% to 58%.\n",
    "\n",
    "5. From the result of Scores by School Type, Charter schools have much higher overall passing percentages than District schools."
   ],
   "cell_type": "markdown",
   "metadata": {}
  }
 ],
 "metadata": {
  "anaconda-cloud": {},
  "kernel_info": {
   "name": "python3"
  },
  "kernelspec": {
   "display_name": "Python 3",
   "language": "python",
   "name": "python3"
  },
  "language_info": {
   "codemirror_mode": {
    "name": "ipython",
    "version": 3
   },
   "file_extension": ".py",
   "mimetype": "text/x-python",
   "name": "python",
   "nbconvert_exporter": "python",
   "pygments_lexer": "ipython3",
   "version": "3.7.9-final"
  },
  "latex_envs": {
   "LaTeX_envs_menu_present": true,
   "autoclose": false,
   "autocomplete": true,
   "bibliofile": "biblio.bib",
   "cite_by": "apalike",
   "current_citInitial": 1,
   "eqLabelWithNumbers": true,
   "eqNumInitial": 1,
   "hotkeys": {
    "equation": "Ctrl-E",
    "itemize": "Ctrl-I"
   },
   "labels_anchors": false,
   "latex_user_defs": false,
   "report_style_numbering": false,
   "user_envs_cfg": false
  },
  "nteract": {
   "version": "0.8.4"
  }
 },
 "nbformat": 4,
 "nbformat_minor": 1
}